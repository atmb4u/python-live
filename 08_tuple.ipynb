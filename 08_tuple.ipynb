{
 "metadata": {
  "name": "",
  "signature": "sha256:fb1038a670b8ea778ae88c0cb302ff4b7a605f400602146223378ce1838e81de"
 },
 "nbformat": 3,
 "nbformat_minor": 0,
 "worksheets": [
  {
   "cells": [
    {
     "cell_type": "markdown",
     "metadata": {},
     "source": [
      "## Tuples and Immutable Types"
     ]
    },
    {
     "cell_type": "raw",
     "metadata": {},
     "source": [
      "Strings and Tuples are immutable, means, you can NOT edit it. Just find alice's shopping list. Unlike most of the shopping lists, it will not grow (or shrink) after getting into the shopping place."
     ]
    },
    {
     "cell_type": "code",
     "collapsed": false,
     "input": [
      "alice_shopping_list = ('Groceries', 'MakeUp Set 1', 'MakeUp Set 2', 'Broom')"
     ],
     "language": "python",
     "metadata": {},
     "outputs": [],
     "prompt_number": 1
    },
    {
     "cell_type": "code",
     "collapsed": false,
     "input": [
      "print \"Tuple is\", alice_shopping_list"
     ],
     "language": "python",
     "metadata": {},
     "outputs": [
      {
       "output_type": "stream",
       "stream": "stdout",
       "text": [
        "Tuple is ('Groceries', 'MakeUp Set 1', 'MakeUp Set 2', 'Broom')\n"
       ]
      }
     ],
     "prompt_number": 2
    },
    {
     "cell_type": "code",
     "collapsed": false,
     "input": [
      "print \"Count of %s is %d\" % (alice_shopping_list[1], alice_shopping_list.count('MakeUp Set'))\n",
      "print \"Count of %s is %d\" % (\"Useful Items\", alice_shopping_list.count('Useful Items'))\n",
      "print \"Index of %s is %d\" % (alice_shopping_list[3], alice_shopping_list.index('Broom'))"
     ],
     "language": "python",
     "metadata": {},
     "outputs": [
      {
       "output_type": "stream",
       "stream": "stdout",
       "text": [
        "Count of MakeUp Set is 2\n",
        "Count of Useful Items is 0\n",
        "Index of Broom is 3\n"
       ]
      }
     ],
     "prompt_number": 3
    },
    {
     "cell_type": "markdown",
     "metadata": {},
     "source": [
      "\n",
      "\n",
      "#### _Go back to the blog post:_ [http://infiniteloop.in/blog/easiest-way-to-learn-python-part-2/](http://infiniteloop.in/blog/easiest-way-to-learn-python-part-2/)"
     ]
    }
   ],
   "metadata": {}
  }
 ]
}