{
 "metadata": {
  "name": ""
 },
 "nbformat": 3,
 "nbformat_minor": 0,
 "worksheets": [
  {
   "cells": [
    {
     "cell_type": "markdown",
     "metadata": {},
     "source": [
      "## Conditions in Python"
     ]
    },
    {
     "cell_type": "raw",
     "metadata": {},
     "source": [
      "We've learned about variables and basic arithmetic in python in previous tutorials, let's have a look at conditions."
     ]
    },
    {
     "cell_type": "code",
     "collapsed": false,
     "input": [
      "bob_age = 51\n",
      "alice_age = 51"
     ],
     "language": "python",
     "metadata": {},
     "outputs": [],
     "prompt_number": 1
    },
    {
     "cell_type": "raw",
     "metadata": {},
     "source": [
      "Conditions and comparisions are an integral part of logic. And accomplishing that in python is just kids play. Let's compare if bob and alice is having same age."
     ]
    },
    {
     "cell_type": "code",
     "collapsed": false,
     "input": [
      "if alice_age == bob_age:\n",
      "\tprint \"Alice is as old as Bob.\"\n",
      "else:\n",
      "\tprint \"Alice and Bob have different ages.\""
     ],
     "language": "python",
     "metadata": {},
     "outputs": [
      {
       "output_type": "stream",
       "stream": "stdout",
       "text": [
        "Nope\n",
        "Alice is as old as Bob.\n"
       ]
      }
     ],
     "prompt_number": 2
    },
    {
     "cell_type": "markdown",
     "metadata": {},
     "source": [
      "##! Important##"
     ]
    },
    {
     "cell_type": "markdown",
     "metadata": {},
     "source": [
      "_ 3 things to look out for._\n",
      "\n",
      "\n",
      "1. __if statement__ - marks the condition checking if; followed by an expression or a value which returns a boolean. \n",
      "2. __':' at the end of the statement__ - marks the end of if condition. This is one of the reason which contributes to the cleanness and tidiness of python code. This allows python to be without '{'\n",
      "3. __'    ' - four space tab in the statement following if__ - This is to let python know which all are the lines to be executed if the condition is true. This is called code blocks, separated with indentation. When ever you hit IndentationError, and just remember, you've missed an indentation or you misplaced spaces with tabs."
     ]
    },
    {
     "cell_type": "code",
     "collapsed": false,
     "input": [
      "alice_age = 49\n",
      "bob_age = 51"
     ],
     "language": "python",
     "metadata": {},
     "outputs": [],
     "prompt_number": 3
    },
    {
     "cell_type": "code",
     "collapsed": false,
     "input": [
      "if alice_age < bob_age:\n",
      "\tprint \"Alice is younger than Bob.\"\n",
      "else:\n",
      "\tprint \"Bob is younger than Alice.\""
     ],
     "language": "python",
     "metadata": {},
     "outputs": [
      {
       "output_type": "stream",
       "stream": "stdout",
       "text": [
        "Alice is younger than Bob.\n"
       ]
      }
     ],
     "prompt_number": 4
    },
    {
     "cell_type": "code",
     "collapsed": false,
     "input": [
      "bob_car = True"
     ],
     "language": "python",
     "metadata": {},
     "outputs": [],
     "prompt_number": 5
    },
    {
     "cell_type": "code",
     "collapsed": false,
     "input": [
      "if bob_car:\n",
      "\tprint \"Bob have a car.\""
     ],
     "language": "python",
     "metadata": {},
     "outputs": [
      {
       "output_type": "stream",
       "stream": "stdout",
       "text": [
        "Bob have a car.\n"
       ]
      }
     ],
     "prompt_number": 6
    },
    {
     "cell_type": "raw",
     "metadata": {},
     "source": [
      "Look at the expression, it doesn't have an operator or comparision.\n",
      "Implicitly, if the expression is evaluating to a Truth value, \n",
      "it is taken as True. \n",
      "bob_car == True is also correct, but this is an anit-pattern and discouraged as,\n",
      "first the expression is evaluated and then if condition is executed."
     ]
    },
    {
     "cell_type": "code",
     "collapsed": false,
     "input": [
      "if alice_age < bob_age and bob_car:\n",
      "\tprint \"Alice is younger than Bob, and Bob have a car.\""
     ],
     "language": "python",
     "metadata": {},
     "outputs": [
      {
       "output_type": "stream",
       "stream": "stdout",
       "text": [
        "Alice is younger than Bob, and Bob have a car.\n"
       ]
      }
     ],
     "prompt_number": 7
    },
    {
     "cell_type": "raw",
     "metadata": {},
     "source": [
      "We have <, ==, >, >=, <=, != conditions and  or, and, not condition connectors\n",
      "Try elif for yourself."
     ]
    },
    {
     "cell_type": "markdown",
     "metadata": {},
     "source": [
      "\n",
      "\n",
      "#### _Go back to the blog post:_ [http://infiniteloop.in/blog/easiest-way-to-learn-python-part-1/](http://infiniteloop.in/blog/easiest-way-to-learn-python-part-1/)"
     ]
    }
   ],
   "metadata": {}
  }
 ]
}
